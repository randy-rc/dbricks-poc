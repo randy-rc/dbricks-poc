{
 "cells": [
  {
   "cell_type": "code",
   "execution_count": 0,
   "metadata": {
    "application/vnd.databricks.v1+cell": {
     "cellMetadata": {
      "byteLimit": 2048000,
      "rowLimit": 10000
     },
     "inputWidgets": {},
     "nuid": "99fd50b2-8131-496d-83d0-8df1f90b5e07",
     "showTitle": false,
     "tableResultSettingsMap": {},
     "title": ""
    }
   },
   "outputs": [],
   "source": [
    "# Sample API from singstat\n",
    "# https://tablebuilder.singstat.gov.sg/view-api/for-developers\n",
    "\n",
    "import json\n",
    "from urllib.request import Request, urlopen\n",
    "\n",
    "hdr = {\n",
    "    'User-Agent': 'Mozilla/5.0', \n",
    "    \"Accept\": \"text/html,application/xhtml+xml,application/xml;q=0.9,/;q=0.8\"\n",
    "}\n",
    "\n",
    "url = \"https://tablebuilder.singstat.gov.sg/api/table/tabledata/M213071?seriesNoORrowNo=1.1&offset=0&limit=3000&sortBy=rowtext%20asc&timeFilter=2023%201H&between=0%2C%209000&search=food\"\n",
    "\n",
    "request = Request(url,headers=hdr)\n",
    "\n",
    "data = urlopen(request).read()\n",
    "\n",
    "json.loads(data)"
   ]
  },
  {
   "cell_type": "code",
   "execution_count": 0,
   "metadata": {
    "application/vnd.databricks.v1+cell": {
     "cellMetadata": {},
     "inputWidgets": {},
     "nuid": "b91c8b6b-338e-475d-991d-d1449070de65",
     "showTitle": false,
     "tableResultSettingsMap": {},
     "title": ""
    }
   },
   "outputs": [],
   "source": []
  }
 ],
 "metadata": {
  "application/vnd.databricks.v1+notebook": {
   "computePreferences": null,
   "dashboards": [],
   "environmentMetadata": {
    "base_environment": "",
    "environment_version": "2"
   },
   "language": "python",
   "notebookMetadata": {
    "pythonIndentUnit": 4
   },
   "notebookName": "PM - Notebook - Ingest - API",
   "widgets": {}
  },
  "language_info": {
   "name": "python"
  }
 },
 "nbformat": 4,
 "nbformat_minor": 0
}
