{
 "cells": [
  {
   "cell_type": "markdown",
   "metadata": {
    "application/vnd.databricks.v1+cell": {
     "cellMetadata": {},
     "inputWidgets": {},
     "nuid": "b153c790-276b-45c3-a585-96c773e276e8",
     "showTitle": false,
     "tableResultSettingsMap": {},
     "title": ""
    }
   },
   "source": [
    "Sample system table in Snowflake accessed using PySpark\n",
    "\n",
    "- Credentials are stored in Databricks secrets manager (https://docs.databricks.com/aws/en/security/secrets/)\n",
    "- Likely not recommended to use Databricks secrets manager, use AWS secrets manager instead"
   ]
  },
  {
   "cell_type": "code",
   "execution_count": 0,
   "metadata": {
    "application/vnd.databricks.v1+cell": {
     "cellMetadata": {
      "byteLimit": 2048000,
      "rowLimit": 10000
     },
     "inputWidgets": {},
     "nuid": "1f91d06b-2e0a-4050-9897-34f11d7c9214",
     "showTitle": false,
     "tableResultSettingsMap": {},
     "title": ""
    }
   },
   "outputs": [],
   "source": [
    "usr = dbutils.secrets.get(scope = \"snowflake-dbricks-poc\", key = \"usr\")\n",
    "pwd = dbutils.secrets.get(scope = \"snowflake-dbricks-poc\", key = \"pwd\")\n",
    "\n",
    "snowflake_table = (\n",
    "    spark.read\n",
    "    .format(\"snowflake\")\n",
    "    .option(\"host\", \"gic-db_poc.snowflakecomputing.com\")\n",
    "    .option(\"port\", \"443\")\n",
    "    .option(\"user\", usr)\n",
    "    .option(\"password\", pwd)\n",
    "    .option(\"sfWarehouse\", \"wh_poc\")\n",
    "    .option(\"database\", \"snowflake\")\n",
    "    .option(\"schema\", \"information_schema\")\n",
    "    .option(\"dbtable\", \"databases\")\n",
    "    .load()\n",
    ")\n",
    "\n",
    "snowflake_table.display()"
   ]
  }
 ],
 "metadata": {
  "application/vnd.databricks.v1+notebook": {
   "computePreferences": null,
   "dashboards": [],
   "environmentMetadata": {
    "base_environment": "",
    "environment_version": "2"
   },
   "language": "python",
   "notebookMetadata": {
    "pythonIndentUnit": 4
   },
   "notebookName": "PM - NB - Read - Snowflake",
   "widgets": {}
  },
  "language_info": {
   "name": "python"
  }
 },
 "nbformat": 4,
 "nbformat_minor": 0
}
