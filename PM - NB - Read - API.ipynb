{
 "cells": [
  {
   "cell_type": "markdown",
   "metadata": {
    "application/vnd.databricks.v1+cell": {
     "cellMetadata": {},
     "inputWidgets": {},
     "nuid": "5567c17d-5f18-4911-9a58-e34be0d35c00",
     "showTitle": false,
     "tableResultSettingsMap": {},
     "title": ""
    }
   },
   "source": [
    "Sample API from singstat accessed using Python library\n",
    "\n",
    "- https://tablebuilder.singstat.gov.sg/view-api/for-developers"
   ]
  },
  {
   "cell_type": "code",
   "execution_count": 0,
   "metadata": {
    "application/vnd.databricks.v1+cell": {
     "cellMetadata": {
      "byteLimit": 2048000,
      "rowLimit": 10000
     },
     "inputWidgets": {},
     "nuid": "99fd50b2-8131-496d-83d0-8df1f90b5e07",
     "showTitle": false,
     "tableResultSettingsMap": {},
     "title": ""
    }
   },
   "outputs": [],
   "source": [
    "import json\n",
    "from urllib.request import Request, urlopen\n",
    "\n",
    "hdr = {\n",
    "    'User-Agent': 'Mozilla/5.0', \n",
    "    \"Accept\": \"text/html,application/xhtml+xml,application/xml;q=0.9,/;q=0.8\"\n",
    "}\n",
    "\n",
    "url = \"https://tablebuilder.singstat.gov.sg/api/table/tabledata/M213071?seriesNoORrowNo=1.1&offset=0&limit=3000&sortBy=rowtext%20asc&timeFilter=2023%201H&between=0%2C%209000&search=food\"\n",
    "\n",
    "request = Request(url,headers=hdr)\n",
    "\n",
    "data = urlopen(request).read()\n",
    "\n",
    "json.loads(data)"
   ]
  },
  {
   "cell_type": "code",
   "execution_count": 0,
   "metadata": {
    "application/vnd.databricks.v1+cell": {
     "cellMetadata": {},
     "inputWidgets": {},
     "nuid": "b91c8b6b-338e-475d-991d-d1449070de65",
     "showTitle": false,
     "tableResultSettingsMap": {},
     "title": ""
    }
   },
   "outputs": [],
   "source": []
  }
 ],
 "metadata": {
  "application/vnd.databricks.v1+notebook": {
   "computePreferences": null,
   "dashboards": [],
   "environmentMetadata": {
    "base_environment": "",
    "environment_version": "2"
   },
   "language": "python",
   "notebookMetadata": {
    "pythonIndentUnit": 4
   },
   "notebookName": "PM - NB - Read - API",
   "widgets": {}
  },
  "language_info": {
   "name": "python"
  }
 },
 "nbformat": 4,
 "nbformat_minor": 0
}
