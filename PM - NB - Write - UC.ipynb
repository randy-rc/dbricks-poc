{
 "cells": [
  {
   "cell_type": "code",
   "execution_count": 0,
   "metadata": {
    "application/vnd.databricks.v1+cell": {
     "cellMetadata": {
      "byteLimit": 2048000,
      "implicitDf": true,
      "rowLimit": 10000
     },
     "inputWidgets": {},
     "nuid": "59b7b751-4f6b-4a17-ba3c-ac4badb222fe",
     "showTitle": false,
     "tableResultSettingsMap": {},
     "title": ""
    }
   },
   "outputs": [],
   "source": [
    "%sql\n",
    "create table if not exists gic_public_markets.tpcds.customer_address (\n",
    "  ca_address_sk int not null ,\n",
    "  ca_address_id char(16) not null ,\n",
    "  ca_street_number char(10) ,\n",
    "  ca_street_name varchar(60) ,\n",
    "  ca_street_type char(15) ,\n",
    "  ca_suite_number char(10) ,\n",
    "  ca_city varchar(60) ,\n",
    "  ca_county varchar(30) ,\n",
    "  ca_state char(2) ,\n",
    "  ca_zip char(10) ,\n",
    "  ca_country varchar(20) ,\n",
    "  ca_gmt_offset numeric(5,2) ,\n",
    "  ca_location_type char(20)\n",
    ");\n",
    "\n",
    "create table if not exists gic_public_markets.tpcds.customer_demographics\n",
    "(\n",
    "  cd_demo_sk int not null ,   \n",
    "  cd_gender char(1) ,          \n",
    "  cd_marital_status char(1) ,   \n",
    "  cd_education_status char(20) , \n",
    "  cd_purchase_estimate int ,   \n",
    "  cd_credit_rating char(10) ,   \n",
    "  cd_dep_count int ,             \n",
    "  cd_dep_employed_count int ,    \n",
    "  cd_dep_college_count int\n",
    ");\n",
    "\n",
    "create table if not exists gic_public_markets.tpcds.customer\n",
    "(\n",
    "  c_customer_sk int not null ,                 \n",
    "  c_customer_id char(16) not null ,             \n",
    "  c_current_cdemo_sk int ,   \n",
    "  c_current_hdemo_sk int ,   \n",
    "  c_current_addr_sk int ,    \n",
    "  c_first_shipto_date_sk int ,                 \n",
    "  c_first_sales_date_sk int ,\n",
    "  c_salutation char(10) ,     \n",
    "  c_first_name char(20) ,     \n",
    "  c_last_name char(30) ,      \n",
    "  c_preferred_cust_flag char(1) ,               \n",
    "  c_birth_day int ,          \n",
    "  c_birth_month int ,        \n",
    "  c_birth_year int ,         \n",
    "  c_birth_country varchar(20) ,                 \n",
    "  c_login char(13) ,          \n",
    "  c_email_address char(50) ,  \n",
    "  c_last_review_date_sk int\n",
    ");"
   ]
  },
  {
   "cell_type": "code",
   "execution_count": 0,
   "metadata": {
    "application/vnd.databricks.v1+cell": {
     "cellMetadata": {
      "byteLimit": 2048000,
      "rowLimit": 10000
     },
     "inputWidgets": {},
     "nuid": "84833d20-7ee2-4c15-9990-3966e3823ea8",
     "showTitle": false,
     "tableResultSettingsMap": {},
     "title": ""
    }
   },
   "outputs": [],
   "source": [
    "path = \"s3://redshift-downloads/TPC-DS/2.13/10GB/customer_address/\"\n",
    "\n",
    "df = spark.read.option(\"delimiter\", \"|\").csv(path)\n",
    "\n",
    "df.write.insertInto(\"gic_public_markets.tpcds.customer_address\", overwrite=True)"
   ]
  },
  {
   "cell_type": "code",
   "execution_count": 0,
   "metadata": {
    "application/vnd.databricks.v1+cell": {
     "cellMetadata": {
      "byteLimit": 2048000,
      "rowLimit": 10000
     },
     "inputWidgets": {},
     "nuid": "252d3a66-ea8c-482e-b5f6-50a0fe4c8daf",
     "showTitle": false,
     "tableResultSettingsMap": {},
     "title": ""
    }
   },
   "outputs": [],
   "source": [
    "path = \"s3://redshift-downloads/TPC-DS/2.13/10GB/customer_demographics/\"\n",
    "\n",
    "df = spark.read.option(\"delimiter\", \"|\").csv(path)\n",
    "\n",
    "df.write.insertInto(\"gic_public_markets.tpcds.customer_demographics\", overwrite=True)"
   ]
  },
  {
   "cell_type": "code",
   "execution_count": 0,
   "metadata": {
    "application/vnd.databricks.v1+cell": {
     "cellMetadata": {
      "byteLimit": 2048000,
      "rowLimit": 10000
     },
     "inputWidgets": {},
     "nuid": "d1af3d41-eb4a-4b69-9bc5-c43c4611e9a7",
     "showTitle": false,
     "tableResultSettingsMap": {},
     "title": ""
    }
   },
   "outputs": [],
   "source": [
    "path = \"s3://redshift-downloads/TPC-DS/2.13/10GB/customer/\"\n",
    "\n",
    "df = spark.read.option(\"delimiter\", \"|\").csv(path)\n",
    "\n",
    "df.write.insertInto(\"gic_public_markets.tpcds.customer\", overwrite=True)"
   ]
  },
  {
   "cell_type": "code",
   "execution_count": 0,
   "metadata": {
    "application/vnd.databricks.v1+cell": {
     "cellMetadata": {
      "byteLimit": 2048000,
      "implicitDf": true,
      "rowLimit": 10000
     },
     "inputWidgets": {},
     "nuid": "44b47eda-f477-4d09-87c1-715e934ae238",
     "showTitle": false,
     "tableResultSettingsMap": {},
     "title": ""
    }
   },
   "outputs": [],
   "source": [
    "%sql\n",
    "select 'customer_address' as tbl, count(*) from gic_public_markets.tpcds.customer_address union all\n",
    "select 'customer_demographics' as tbl, count(*) from gic_public_markets.tpcds.customer_demographics union all\n",
    "select 'customer' as tbl, count(*) from gic_public_markets.tpcds.customer;"
   ]
  },
  {
   "cell_type": "code",
   "execution_count": 0,
   "metadata": {
    "application/vnd.databricks.v1+cell": {
     "cellMetadata": {
      "byteLimit": 2048000,
      "implicitDf": true,
      "rowLimit": 10000
     },
     "inputWidgets": {},
     "nuid": "9b3f6f65-d7d5-48cf-85b4-003fa235720f",
     "showTitle": false,
     "tableResultSettingsMap": {},
     "title": ""
    }
   },
   "outputs": [],
   "source": [
    "%sql\n",
    "select * from gic_public_markets.tpcds.customer_address limit 10;"
   ]
  },
  {
   "cell_type": "code",
   "execution_count": 0,
   "metadata": {
    "application/vnd.databricks.v1+cell": {
     "cellMetadata": {
      "byteLimit": 2048000,
      "implicitDf": true,
      "rowLimit": 10000
     },
     "inputWidgets": {},
     "nuid": "9c440a6a-3600-4fb7-ac23-99d34044a1d5",
     "showTitle": false,
     "tableResultSettingsMap": {},
     "title": ""
    }
   },
   "outputs": [],
   "source": [
    "%sql\n",
    "select * from gic_public_markets.tpcds.customer_demographics limit 10;"
   ]
  },
  {
   "cell_type": "code",
   "execution_count": 0,
   "metadata": {
    "application/vnd.databricks.v1+cell": {
     "cellMetadata": {
      "byteLimit": 2048000,
      "implicitDf": true,
      "rowLimit": 10000
     },
     "inputWidgets": {},
     "nuid": "c8ce1b0b-ded4-408d-88d3-9df26762827d",
     "showTitle": false,
     "tableResultSettingsMap": {},
     "title": ""
    }
   },
   "outputs": [],
   "source": [
    "%sql\n",
    "select * from gic_public_markets.tpcds.customer limit 10;"
   ]
  },
  {
   "cell_type": "code",
   "execution_count": 0,
   "metadata": {
    "application/vnd.databricks.v1+cell": {
     "cellMetadata": {
      "byteLimit": 2048000,
      "rowLimit": 10000
     },
     "inputWidgets": {},
     "nuid": "da570ebb-9746-46c0-8205-435d73a63c51",
     "showTitle": false,
     "tableResultSettingsMap": {},
     "title": ""
    }
   },
   "outputs": [],
   "source": [
    "customer_df = spark.sql(\"select * from gic_public_markets.tpcds.customer limit 10\")\n",
    "customer_df.count()"
   ]
  }
 ],
 "metadata": {
  "application/vnd.databricks.v1+notebook": {
   "computePreferences": null,
   "dashboards": [],
   "environmentMetadata": {
    "base_environment": "",
    "environment_version": "2"
   },
   "language": "python",
   "notebookMetadata": {
    "mostRecentlyExecutedCommandWithImplicitDF": {
     "commandId": 3917759978373756,
     "dataframes": [
      "_sqldf"
     ]
    },
    "pythonIndentUnit": 4
   },
   "notebookName": "PM - NB - Write - UC",
   "widgets": {}
  },
  "language_info": {
   "name": "python"
  }
 },
 "nbformat": 4,
 "nbformat_minor": 0
}
